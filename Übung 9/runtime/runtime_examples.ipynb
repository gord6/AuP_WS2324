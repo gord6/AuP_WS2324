{
 "cells": [
  {
   "cell_type": "code",
   "execution_count": 5,
   "metadata": {},
   "outputs": [
    {
     "name": "stdout",
     "output_type": "stream",
     "text": [
      "Average Time for func1: 0.033605 seconds\n",
      "Average Time for func2: 0.000191 seconds\n",
      "Average Time for func3: 0.999578 seconds\n"
     ]
    }
   ],
   "source": [
    "import timeit\n",
    "\n",
    "def measure_average_time(function, *args, runs=10):\n",
    "    total_time = 0\n",
    "    for _ in range(runs):\n",
    "        start_time = timeit.default_timer()\n",
    "        function(*args)\n",
    "        end_time = timeit.default_timer()\n",
    "        total_time += end_time - start_time\n",
    "    return total_time / runs\n",
    "\n",
    "\n",
    "def func1():\n",
    "    result = 0\n",
    "    for i in range(100):\n",
    "        for j in range(100):\n",
    "            for k in range(100):\n",
    "                result += k\n",
    "    return result\n",
    "\n",
    "\n",
    "def func2(number):\n",
    "    result = 0\n",
    "    for i in range(number):\n",
    "        result += i\n",
    "    return result\n",
    "\n",
    "\n",
    "def func3(number):\n",
    "    result = 0\n",
    "    for i in range(number):\n",
    "        for j in range(number):\n",
    "            result += j\n",
    "    return result\n",
    "\n",
    "time_func_1 = measure_average_time(func1)\n",
    "time_func_2 = measure_average_time(func2, 5000)\n",
    "time_func_3 = measure_average_time(func3, 5000)\n",
    "\n",
    "print(\"Average Time for func1: {:.6f} seconds\".format(time_func_1))\n",
    "print(\"Average Time for func2: {:.6f} seconds\".format(time_func_2))\n",
    "print(\"Average Time for func3: {:.6f} seconds\".format(time_func_3))"
   ]
  }
 ],
 "metadata": {
  "kernelspec": {
   "display_name": "Python 3",
   "language": "python",
   "name": "python3"
  },
  "language_info": {
   "codemirror_mode": {
    "name": "ipython",
    "version": 3
   },
   "file_extension": ".py",
   "mimetype": "text/x-python",
   "name": "python",
   "nbconvert_exporter": "python",
   "pygments_lexer": "ipython3",
   "version": "3.11.7"
  }
 },
 "nbformat": 4,
 "nbformat_minor": 2
}
